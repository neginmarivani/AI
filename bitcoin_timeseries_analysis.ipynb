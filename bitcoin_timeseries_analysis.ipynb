{
  "nbformat": 4,
  "nbformat_minor": 0,
  "metadata": {
    "colab": {
      "name": "bitcoin_timeseries_analysis.ipynb",
      "provenance": [],
      "collapsed_sections": []
    },
    "kernelspec": {
      "name": "python3",
      "display_name": "Python 3"
    },
    "language_info": {
      "name": "python"
    }
  },
  "cells": [
    {
      "cell_type": "code",
      "source": [
        "!pip install yfinance"
      ],
      "metadata": {
        "colab": {
          "base_uri": "https://localhost:8080/"
        },
        "id": "kja1uvj5IWUf",
        "outputId": "55c70702-75b5-4200-b0d2-f4234adfd924"
      },
      "execution_count": 1,
      "outputs": [
        {
          "output_type": "stream",
          "name": "stdout",
          "text": [
            "Looking in indexes: https://pypi.org/simple, https://us-python.pkg.dev/colab-wheels/public/simple/\n",
            "Collecting yfinance\n",
            "  Downloading yfinance-0.1.70-py2.py3-none-any.whl (26 kB)\n",
            "Collecting lxml>=4.5.1\n",
            "  Downloading lxml-4.8.0-cp37-cp37m-manylinux_2_17_x86_64.manylinux2014_x86_64.manylinux_2_24_x86_64.whl (6.4 MB)\n",
            "\u001b[K     |████████████████████████████████| 6.4 MB 13.1 MB/s \n",
            "\u001b[?25hRequirement already satisfied: numpy>=1.15 in /usr/local/lib/python3.7/dist-packages (from yfinance) (1.21.6)\n",
            "Collecting requests>=2.26\n",
            "  Downloading requests-2.27.1-py2.py3-none-any.whl (63 kB)\n",
            "\u001b[K     |████████████████████████████████| 63 kB 1.5 MB/s \n",
            "\u001b[?25hRequirement already satisfied: multitasking>=0.0.7 in /usr/local/lib/python3.7/dist-packages (from yfinance) (0.0.10)\n",
            "Requirement already satisfied: pandas>=0.24.0 in /usr/local/lib/python3.7/dist-packages (from yfinance) (1.3.5)\n",
            "Requirement already satisfied: pytz>=2017.3 in /usr/local/lib/python3.7/dist-packages (from pandas>=0.24.0->yfinance) (2022.1)\n",
            "Requirement already satisfied: python-dateutil>=2.7.3 in /usr/local/lib/python3.7/dist-packages (from pandas>=0.24.0->yfinance) (2.8.2)\n",
            "Requirement already satisfied: six>=1.5 in /usr/local/lib/python3.7/dist-packages (from python-dateutil>=2.7.3->pandas>=0.24.0->yfinance) (1.15.0)\n",
            "Requirement already satisfied: certifi>=2017.4.17 in /usr/local/lib/python3.7/dist-packages (from requests>=2.26->yfinance) (2022.5.18.1)\n",
            "Requirement already satisfied: urllib3<1.27,>=1.21.1 in /usr/local/lib/python3.7/dist-packages (from requests>=2.26->yfinance) (1.24.3)\n",
            "Requirement already satisfied: idna<4,>=2.5 in /usr/local/lib/python3.7/dist-packages (from requests>=2.26->yfinance) (2.10)\n",
            "Requirement already satisfied: charset-normalizer~=2.0.0 in /usr/local/lib/python3.7/dist-packages (from requests>=2.26->yfinance) (2.0.12)\n",
            "Installing collected packages: requests, lxml, yfinance\n",
            "  Attempting uninstall: requests\n",
            "    Found existing installation: requests 2.23.0\n",
            "    Uninstalling requests-2.23.0:\n",
            "      Successfully uninstalled requests-2.23.0\n",
            "  Attempting uninstall: lxml\n",
            "    Found existing installation: lxml 4.2.6\n",
            "    Uninstalling lxml-4.2.6:\n",
            "      Successfully uninstalled lxml-4.2.6\n",
            "\u001b[31mERROR: pip's dependency resolver does not currently take into account all the packages that are installed. This behaviour is the source of the following dependency conflicts.\n",
            "google-colab 1.0.0 requires requests~=2.23.0, but you have requests 2.27.1 which is incompatible.\n",
            "datascience 0.10.6 requires folium==0.2.1, but you have folium 0.8.3 which is incompatible.\u001b[0m\n",
            "Successfully installed lxml-4.8.0 requests-2.27.1 yfinance-0.1.70\n"
          ]
        }
      ]
    },
    {
      "cell_type": "code",
      "source": [
        "import numpy as np\n",
        "import matplotlib.pyplot as plt\n",
        "import pandas as pd\n",
        "import yfinance as yf\n",
        "\n",
        "START_DATE = \"2017-01-01\"\n",
        "DUE_DATE = \"2022-03-30\""
      ],
      "metadata": {
        "id": "eVO7MsDaTWI1"
      },
      "execution_count": 2,
      "outputs": []
    },
    {
      "cell_type": "code",
      "execution_count": 9,
      "metadata": {
        "id": "tTjfDNsIRiXt",
        "colab": {
          "base_uri": "https://localhost:8080/",
          "height": 256
        },
        "outputId": "d2b06963-8f17-4a12-e774-9c44ea325994"
      },
      "outputs": [
        {
          "output_type": "stream",
          "name": "stdout",
          "text": [
            "\r[*********************100%***********************]  1 of 1 completed\n"
          ]
        },
        {
          "output_type": "execute_result",
          "data": {
            "text/plain": [
              "                   Open         High          Low        Close     Volume  \\\n",
              "Date                                                                        \n",
              "2017-01-01   963.658020  1003.080017   958.698975   998.325012  147775008   \n",
              "2017-01-02   998.617004  1031.390015   996.702026  1021.750000  222184992   \n",
              "2017-01-03  1021.599976  1044.079956  1021.599976  1043.839966  185168000   \n",
              "2017-01-04  1044.400024  1159.420044  1044.400024  1154.729980  344945984   \n",
              "2017-01-05  1156.729980  1191.099976   910.416992  1013.380005  510199008   \n",
              "\n",
              "            daily_return  \n",
              "Date                      \n",
              "2017-01-01      0.035974  \n",
              "2017-01-02      0.023165  \n",
              "2017-01-03      0.021770  \n",
              "2017-01-04      0.105640  \n",
              "2017-01-05     -0.123927  "
            ],
            "text/html": [
              "\n",
              "  <div id=\"df-c24752bc-ccfa-46ca-a519-7902cb186844\">\n",
              "    <div class=\"colab-df-container\">\n",
              "      <div>\n",
              "<style scoped>\n",
              "    .dataframe tbody tr th:only-of-type {\n",
              "        vertical-align: middle;\n",
              "    }\n",
              "\n",
              "    .dataframe tbody tr th {\n",
              "        vertical-align: top;\n",
              "    }\n",
              "\n",
              "    .dataframe thead th {\n",
              "        text-align: right;\n",
              "    }\n",
              "</style>\n",
              "<table border=\"1\" class=\"dataframe\">\n",
              "  <thead>\n",
              "    <tr style=\"text-align: right;\">\n",
              "      <th></th>\n",
              "      <th>Open</th>\n",
              "      <th>High</th>\n",
              "      <th>Low</th>\n",
              "      <th>Close</th>\n",
              "      <th>Volume</th>\n",
              "      <th>daily_return</th>\n",
              "    </tr>\n",
              "    <tr>\n",
              "      <th>Date</th>\n",
              "      <th></th>\n",
              "      <th></th>\n",
              "      <th></th>\n",
              "      <th></th>\n",
              "      <th></th>\n",
              "      <th></th>\n",
              "    </tr>\n",
              "  </thead>\n",
              "  <tbody>\n",
              "    <tr>\n",
              "      <th>2017-01-01</th>\n",
              "      <td>963.658020</td>\n",
              "      <td>1003.080017</td>\n",
              "      <td>958.698975</td>\n",
              "      <td>998.325012</td>\n",
              "      <td>147775008</td>\n",
              "      <td>0.035974</td>\n",
              "    </tr>\n",
              "    <tr>\n",
              "      <th>2017-01-02</th>\n",
              "      <td>998.617004</td>\n",
              "      <td>1031.390015</td>\n",
              "      <td>996.702026</td>\n",
              "      <td>1021.750000</td>\n",
              "      <td>222184992</td>\n",
              "      <td>0.023165</td>\n",
              "    </tr>\n",
              "    <tr>\n",
              "      <th>2017-01-03</th>\n",
              "      <td>1021.599976</td>\n",
              "      <td>1044.079956</td>\n",
              "      <td>1021.599976</td>\n",
              "      <td>1043.839966</td>\n",
              "      <td>185168000</td>\n",
              "      <td>0.021770</td>\n",
              "    </tr>\n",
              "    <tr>\n",
              "      <th>2017-01-04</th>\n",
              "      <td>1044.400024</td>\n",
              "      <td>1159.420044</td>\n",
              "      <td>1044.400024</td>\n",
              "      <td>1154.729980</td>\n",
              "      <td>344945984</td>\n",
              "      <td>0.105640</td>\n",
              "    </tr>\n",
              "    <tr>\n",
              "      <th>2017-01-05</th>\n",
              "      <td>1156.729980</td>\n",
              "      <td>1191.099976</td>\n",
              "      <td>910.416992</td>\n",
              "      <td>1013.380005</td>\n",
              "      <td>510199008</td>\n",
              "      <td>-0.123927</td>\n",
              "    </tr>\n",
              "  </tbody>\n",
              "</table>\n",
              "</div>\n",
              "      <button class=\"colab-df-convert\" onclick=\"convertToInteractive('df-c24752bc-ccfa-46ca-a519-7902cb186844')\"\n",
              "              title=\"Convert this dataframe to an interactive table.\"\n",
              "              style=\"display:none;\">\n",
              "        \n",
              "  <svg xmlns=\"http://www.w3.org/2000/svg\" height=\"24px\"viewBox=\"0 0 24 24\"\n",
              "       width=\"24px\">\n",
              "    <path d=\"M0 0h24v24H0V0z\" fill=\"none\"/>\n",
              "    <path d=\"M18.56 5.44l.94 2.06.94-2.06 2.06-.94-2.06-.94-.94-2.06-.94 2.06-2.06.94zm-11 1L8.5 8.5l.94-2.06 2.06-.94-2.06-.94L8.5 2.5l-.94 2.06-2.06.94zm10 10l.94 2.06.94-2.06 2.06-.94-2.06-.94-.94-2.06-.94 2.06-2.06.94z\"/><path d=\"M17.41 7.96l-1.37-1.37c-.4-.4-.92-.59-1.43-.59-.52 0-1.04.2-1.43.59L10.3 9.45l-7.72 7.72c-.78.78-.78 2.05 0 2.83L4 21.41c.39.39.9.59 1.41.59.51 0 1.02-.2 1.41-.59l7.78-7.78 2.81-2.81c.8-.78.8-2.07 0-2.86zM5.41 20L4 18.59l7.72-7.72 1.47 1.35L5.41 20z\"/>\n",
              "  </svg>\n",
              "      </button>\n",
              "      \n",
              "  <style>\n",
              "    .colab-df-container {\n",
              "      display:flex;\n",
              "      flex-wrap:wrap;\n",
              "      gap: 12px;\n",
              "    }\n",
              "\n",
              "    .colab-df-convert {\n",
              "      background-color: #E8F0FE;\n",
              "      border: none;\n",
              "      border-radius: 50%;\n",
              "      cursor: pointer;\n",
              "      display: none;\n",
              "      fill: #1967D2;\n",
              "      height: 32px;\n",
              "      padding: 0 0 0 0;\n",
              "      width: 32px;\n",
              "    }\n",
              "\n",
              "    .colab-df-convert:hover {\n",
              "      background-color: #E2EBFA;\n",
              "      box-shadow: 0px 1px 2px rgba(60, 64, 67, 0.3), 0px 1px 3px 1px rgba(60, 64, 67, 0.15);\n",
              "      fill: #174EA6;\n",
              "    }\n",
              "\n",
              "    [theme=dark] .colab-df-convert {\n",
              "      background-color: #3B4455;\n",
              "      fill: #D2E3FC;\n",
              "    }\n",
              "\n",
              "    [theme=dark] .colab-df-convert:hover {\n",
              "      background-color: #434B5C;\n",
              "      box-shadow: 0px 1px 3px 1px rgba(0, 0, 0, 0.15);\n",
              "      filter: drop-shadow(0px 1px 2px rgba(0, 0, 0, 0.3));\n",
              "      fill: #FFFFFF;\n",
              "    }\n",
              "  </style>\n",
              "\n",
              "      <script>\n",
              "        const buttonEl =\n",
              "          document.querySelector('#df-c24752bc-ccfa-46ca-a519-7902cb186844 button.colab-df-convert');\n",
              "        buttonEl.style.display =\n",
              "          google.colab.kernel.accessAllowed ? 'block' : 'none';\n",
              "\n",
              "        async function convertToInteractive(key) {\n",
              "          const element = document.querySelector('#df-c24752bc-ccfa-46ca-a519-7902cb186844');\n",
              "          const dataTable =\n",
              "            await google.colab.kernel.invokeFunction('convertToInteractive',\n",
              "                                                     [key], {});\n",
              "          if (!dataTable) return;\n",
              "\n",
              "          const docLinkHtml = 'Like what you see? Visit the ' +\n",
              "            '<a target=\"_blank\" href=https://colab.research.google.com/notebooks/data_table.ipynb>data table notebook</a>'\n",
              "            + ' to learn more about interactive tables.';\n",
              "          element.innerHTML = '';\n",
              "          dataTable['output_type'] = 'display_data';\n",
              "          await google.colab.output.renderOutput(dataTable, element);\n",
              "          const docLink = document.createElement('div');\n",
              "          docLink.innerHTML = docLinkHtml;\n",
              "          element.appendChild(docLink);\n",
              "        }\n",
              "      </script>\n",
              "    </div>\n",
              "  </div>\n",
              "  "
            ]
          },
          "metadata": {},
          "execution_count": 9
        }
      ],
      "source": [
        "def get_bitcoin_candlestick(start_date, end_date):\n",
        "    \"\"\"  get bitcoin daily info from yahooFinance and remove non values\"\"\"\n",
        "\n",
        "    btc_df = yf.download(\"BTC-USD\", start_date, end_date,\n",
        "                         auto_adjust=True)\n",
        "\n",
        "    btc_df['daily_return'] = (btc_df['Close'] -btc_df['Open']) / btc_df['Open']\n",
        "\n",
        "    btc_df = btc_df.dropna()\n",
        "\n",
        "    return btc_df\n",
        "\n",
        "\n",
        "btc_df = get_bitcoin_candlestick(start_date=START_DATE , end_date=DUE_DATE)\n",
        "btc_df.head()"
      ]
    },
    {
      "cell_type": "code",
      "source": [
        "# btc_df.Date = pd.to_datetime(btc_df.date , dayfirst = True)\n",
        "# btc_df.set_index(\"Date\", inplace=True)\n",
        "btc_df= btc_df.asfreq('b')\n",
        "btc_df = btc_df.fillna(method = 'ffill')"
      ],
      "metadata": {
        "id": "OsCDWvxpR50h"
      },
      "execution_count": 10,
      "outputs": []
    },
    {
      "cell_type": "markdown",
      "source": [
        "# QQ Plot"
      ],
      "metadata": {
        "id": "VJQlrpOSR9Dj"
      }
    },
    {
      "cell_type": "code",
      "source": [
        "import scipy.stats\n",
        "import pylab\n",
        "\n",
        "scipy.stats.probplot(btc_df.Close , plot=pylab)\n",
        "pylab.show()"
      ],
      "metadata": {
        "id": "9O2IsthYR_3c",
        "colab": {
          "base_uri": "https://localhost:8080/",
          "height": 295
        },
        "outputId": "d78f2c24-652f-48e3-9178-e87d162e5be5"
      },
      "execution_count": 13,
      "outputs": [
        {
          "output_type": "display_data",
          "data": {
            "text/plain": [
              "<Figure size 432x288 with 1 Axes>"
            ],
            "image/png": "[encoded data removed]"
          },
          "metadata": {
            "needs_background": "light"
          }
        }
      ]
    },
    {
      "cell_type": "markdown",
      "source": [
        "# **compare time series with white noise**"
      ],
      "metadata": {
        "id": "4_-51aJFVU4e"
      }
    },
    {
      "cell_type": "code",
      "source": [
        "wn = np.random.normal(loc = btc_df.Close.mean() , scale = btc_df.Close.std() , size = len(btc_df))\n",
        "btc_df['wn'] = wn\n",
        "btc_df.wn.plot()\n",
        "plt.title(\"white noise time series\" ,size = 24)\n",
        "plt.show()"
      ],
      "metadata": {
        "id": "9hOpYpCxVaN_",
        "colab": {
          "base_uri": "https://localhost:8080/",
          "height": 304
        },
        "outputId": "2b547bbe-00a4-47ed-a43d-3c90bdda6de7"
      },
      "execution_count": 14,
      "outputs": [
        {
          "output_type": "display_data",
          "data": {
            "text/plain": [
              "<Figure size 432x288 with 1 Axes>"
            ],
            "image/png": "[encoded data removed]"
          },
          "metadata": {
            "needs_background": "light"
          }
        }
      ]
    },
    {
      "cell_type": "code",
      "source": [
        "rw = pd.read_csv(\"025 RandWalk.csv\")\n",
        "rw.date = pd.to_datetime(rw.date , dayfirst = True)\n",
        "rw.set_index(\"date\", inplace = True)\n",
        "rw = rw.asfreq('b')\n",
        "\n",
        "btc_df['rw'] = rw.price\n",
        "print(rw.head())\n",
        "btc_df.rw.plot(color = 'red')\n",
        "btc_df.Close.plot(color = 'blue')\n",
        "plt.title(\"Randow walk vs bitcoin daily return\")\n",
        "plt.show()\n"
      ],
      "metadata": {
        "colab": {
          "base_uri": "https://localhost:8080/",
          "height": 423
        },
        "id": "DFdR2hPFJ6vS",
        "outputId": "d9e4a3c8-69a1-4ac6-8169-4298a32bf9a4"
      },
      "execution_count": 24,
      "outputs": [
        {
          "output_type": "stream",
          "name": "stdout",
          "text": [
            "                  price\n",
            "date                   \n",
            "1994-01-07  1122.139662\n",
            "1994-01-10  1080.347860\n",
            "1994-01-11  1082.095245\n",
            "1994-01-12  1083.639265\n",
            "1994-01-13  1067.146255\n"
          ]
        },
        {
          "output_type": "display_data",
          "data": {
            "text/plain": [
              "<Figure size 432x288 with 1 Axes>"
            ],
            "image/png": "[encoded data removed]"
          },
          "metadata": {
            "needs_background": "light"
          }
        }
      ]
    },
    {
      "cell_type": "markdown",
      "source": [
        "## dickey-fuller test for stationary"
      ],
      "metadata": {
        "id": "SoZGg4ASWDf6"
      }
    },
    {
      "cell_type": "code",
      "source": [
        "import statsmodels.tsa.stattools as sts\n",
        "\n",
        "sts.adfuller(btc_df.Close)"
      ],
      "metadata": {
        "colab": {
          "base_uri": "https://localhost:8080/"
        },
        "id": "2S5RhJeRUe51",
        "outputId": "b63658a6-0190-4a84-fa7d-61e82f1ee0f8"
      },
      "execution_count": 25,
      "outputs": [
        {
          "output_type": "stream",
          "name": "stderr",
          "text": [
            "/usr/local/lib/python3.7/dist-packages/statsmodels/tools/_testing.py:19: FutureWarning: pandas.util.testing is deprecated. Use the functions in the public API at pandas.testing instead.\n",
            "  import pandas.util.testing as tm\n"
          ]
        },
        {
          "output_type": "execute_result",
          "data": {
            "text/plain": [
              "(-0.7604667682058226,\n",
              " 0.8304598118682299,\n",
              " 8,\n",
              " 1359,\n",
              " {'1%': -3.435170967430817,\n",
              "  '10%': -2.5679035297726274,\n",
              "  '5%': -2.8636690928667523},\n",
              " 22618.635181543814)"
            ]
          },
          "metadata": {},
          "execution_count": 25
        }
      ]
    },
    {
      "cell_type": "markdown",
      "source": [
        "# Seasonality"
      ],
      "metadata": {
        "id": "TRJ1b8E5WGZj"
      }
    },
    {
      "cell_type": "code",
      "source": [
        "from statsmodels.tsa.seasonal import seasonal_decompose\n",
        "\n",
        "s_dec_additive = seasonal_decompose(btc_df.Close , model=\"multiplicative\")\n",
        "s_dec_additive.plot()\n",
        "plt.show()"
      ],
      "metadata": {
        "colab": {
          "base_uri": "https://localhost:8080/",
          "height": 298
        },
        "id": "SIzh3s9dWG0U",
        "outputId": "fa081cd4-0113-4add-d485-cf62542970cc"
      },
      "execution_count": 26,
      "outputs": [
        {
          "output_type": "display_data",
          "data": {
            "text/plain": [
              "<Figure size 432x288 with 4 Axes>"
            ],
            "image/png": "[encoded data removed]"
          },
          "metadata": {
            "needs_background": "light"
          }
        }
      ]
    },
    {
      "cell_type": "markdown",
      "source": [
        "# time dependency analysis -> autocorrelation with ACF "
      ],
      "metadata": {
        "id": "Q0ShVQVmWN1t"
      }
    },
    {
      "cell_type": "code",
      "source": [
        "import statsmodels.graphics.tsaplots as sgt\n",
        "\n",
        "sgt.plot_acf(btc_df.Close , lags = 40 , zero = False)\n",
        "plt.show()"
      ],
      "metadata": {
        "colab": {
          "base_uri": "https://localhost:8080/",
          "height": 281
        },
        "id": "73FdHVpzWLNT",
        "outputId": "81f86a19-4a01-4208-d56d-c220d596fae3"
      },
      "execution_count": 27,
      "outputs": [
        {
          "output_type": "display_data",
          "data": {
            "text/plain": [
              "<Figure size 432x288 with 1 Axes>"
            ],
            "image/png": "[encoded data removed]"
          },
          "metadata": {
            "needs_background": "light"
          }
        }
      ]
    },
    {
      "cell_type": "code",
      "source": [
        "#direct relatin between past lags and noe\n",
        "\n",
        "sgt.plot_pacf(btc_df.Close , lags =40 , zero = False , method = ('ols'))\n",
        "plt.show()"
      ],
      "metadata": {
        "colab": {
          "base_uri": "https://localhost:8080/",
          "height": 281
        },
        "id": "tRUkKoN2WTxk",
        "outputId": "fb6e20e1-4f74-4134-82da-ca02bcb1482b"
      },
      "execution_count": 28,
      "outputs": [
        {
          "output_type": "display_data",
          "data": {
            "text/plain": [
              "<Figure size 432x288 with 1 Axes>"
            ],
            "image/png": "[encoded data removed]"
          },
          "metadata": {
            "needs_background": "light"
          }
        }
      ]
    },
    {
      "cell_type": "markdown",
      "source": [
        "# Returns"
      ],
      "metadata": {
        "id": "anwYUILWmu73"
      }
    },
    {
      "cell_type": "code",
      "source": [
        "btc_df['returns'] = btc_df.Close.pct_change(1)*100"
      ],
      "metadata": {
        "id": "lddPhpUpmubL"
      },
      "execution_count": 30,
      "outputs": []
    },
    {
      "cell_type": "code",
      "source": [
        "from statsmodels.tsa.arima_model import ARIMA\n",
        "\n",
        "model_arima = ARIMA(btc_df.Close , order =(1,1,1))\n",
        "result_arima = model_arima.fit()\n",
        "result_arima.summary()"
      ],
      "metadata": {
        "colab": {
          "base_uri": "https://localhost:8080/",
          "height": 353
        },
        "id": "tfuYs89VWY2H",
        "outputId": "eeb2d5b4-3f45-4306-c03e-9d3e90a427c3"
      },
      "execution_count": 31,
      "outputs": [
        {
          "output_type": "execute_result",
          "data": {
            "text/plain": [
              "<class 'statsmodels.iolib.summary.Summary'>\n",
              "\"\"\"\n",
              "                             ARIMA Model Results                              \n",
              "==============================================================================\n",
              "Dep. Variable:                D.Close   No. Observations:                 1367\n",
              "Model:                 ARIMA(1, 1, 1)   Log Likelihood              -11513.200\n",
              "Method:                       css-mle   S.D. of innovations           1100.258\n",
              "Date:                Mon, 30 May 2022   AIC                          23034.400\n",
              "Time:                        06:17:55   BIC                          23055.281\n",
              "Sample:                    01-03-2017   HQIC                         23042.215\n",
              "                         - 03-30-2022                                         \n",
              "=================================================================================\n",
              "                    coef    std err          z      P>|z|      [0.025      0.975]\n",
              "---------------------------------------------------------------------------------\n",
              "const            33.6803     29.286      1.150      0.250     -23.720      91.081\n",
              "ar.L1.D.Close    -0.0228      0.582     -0.039      0.969      -1.164       1.118\n",
              "ma.L1.D.Close     0.0066      0.582      0.011      0.991      -1.134       1.147\n",
              "                                    Roots                                    \n",
              "=============================================================================\n",
              "                  Real          Imaginary           Modulus         Frequency\n",
              "-----------------------------------------------------------------------------\n",
              "AR.1          -43.8001           +0.0000j           43.8001            0.5000\n",
              "MA.1         -151.6526           +0.0000j          151.6526            0.5000\n",
              "-----------------------------------------------------------------------------\n",
              "\"\"\""
            ],
            "text/html": [
              "<table class=\"simpletable\">\n",
              "<caption>ARIMA Model Results</caption>\n",
              "<tr>\n",
              "  <th>Dep. Variable:</th>      <td>D.Close</td>     <th>  No. Observations:  </th>    <td>1367</td>   \n",
              "</tr>\n",
              "<tr>\n",
              "  <th>Model:</th>          <td>ARIMA(1, 1, 1)</td>  <th>  Log Likelihood     </th> <td>-11513.200</td>\n",
              "</tr>\n",
              "<tr>\n",
              "  <th>Method:</th>             <td>css-mle</td>     <th>  S.D. of innovations</th>  <td>1100.258</td> \n",
              "</tr>\n",
              "<tr>\n",
              "  <th>Date:</th>          <td>Mon, 30 May 2022</td> <th>  AIC                </th>  <td>23034.400</td>\n",
              "</tr>\n",
              "<tr>\n",
              "  <th>Time:</th>              <td>06:17:55</td>     <th>  BIC                </th>  <td>23055.281</td>\n",
              "</tr>\n",
              "<tr>\n",
              "  <th>Sample:</th>           <td>01-03-2017</td>    <th>  HQIC               </th>  <td>23042.215</td>\n",
              "</tr>\n",
              "<tr>\n",
              "  <th></th>                 <td>- 03-30-2022</td>   <th>                     </th>      <td> </td>    \n",
              "</tr>\n",
              "</table>\n",
              "<table class=\"simpletable\">\n",
              "<tr>\n",
              "        <td></td>           <th>coef</th>     <th>std err</th>      <th>z</th>      <th>P>|z|</th>  <th>[0.025</th>    <th>0.975]</th>  \n",
              "</tr>\n",
              "<tr>\n",
              "  <th>const</th>         <td>   33.6803</td> <td>   29.286</td> <td>    1.150</td> <td> 0.250</td> <td>  -23.720</td> <td>   91.081</td>\n",
              "</tr>\n",
              "<tr>\n",
              "  <th>ar.L1.D.Close</th> <td>   -0.0228</td> <td>    0.582</td> <td>   -0.039</td> <td> 0.969</td> <td>   -1.164</td> <td>    1.118</td>\n",
              "</tr>\n",
              "<tr>\n",
              "  <th>ma.L1.D.Close</th> <td>    0.0066</td> <td>    0.582</td> <td>    0.011</td> <td> 0.991</td> <td>   -1.134</td> <td>    1.147</td>\n",
              "</tr>\n",
              "</table>\n",
              "<table class=\"simpletable\">\n",
              "<caption>Roots</caption>\n",
              "<tr>\n",
              "    <td></td>   <th>            Real</th>  <th>         Imaginary</th> <th>         Modulus</th>  <th>        Frequency</th>\n",
              "</tr>\n",
              "<tr>\n",
              "  <th>AR.1</th> <td>         -43.8001</td> <td>          +0.0000j</td> <td>          43.8001</td> <td>           0.5000</td>\n",
              "</tr>\n",
              "<tr>\n",
              "  <th>MA.1</th> <td>        -151.6526</td> <td>          +0.0000j</td> <td>         151.6526</td> <td>           0.5000</td>\n",
              "</tr>\n",
              "</table>"
            ]
          },
          "metadata": {},
          "execution_count": 31
        }
      ]
    },
    {
      "cell_type": "code",
      "source": [
        "btc_df['res_ar_1_i_ma_1'] = result_arima.resid\n",
        "sgt.plot_acf(btc_df.res_ar_1_i_ma_1[1:] , zero=False, lags =40)\n",
        "plt.title(\"ACF of residuals for arima(1,1,1)\")\n",
        "plt.show()"
      ],
      "metadata": {
        "colab": {
          "base_uri": "https://localhost:8080/",
          "height": 281
        },
        "id": "VLXD6bIQo2vo",
        "outputId": "56467987-05c2-429a-92df-ddf1fc81f843"
      },
      "execution_count": 33,
      "outputs": [
        {
          "output_type": "display_data",
          "data": {
            "text/plain": [
              "<Figure size 432x288 with 1 Axes>"
            ],
            "image/png": "[encoded data removed]"
          },
          "metadata": {
            "needs_background": "light"
          }
        }
      ]
    },
    {
      "cell_type": "code",
      "source": [
        "model_arima_1_1_7 = ARIMA(btc_df.Close , order =(1,1,7))\n",
        "result_arima_1_1_7 = model_arima_1_1_7.fit(start_ar_lags = 7)\n",
        "result_arima_1_1_7.summary()"
      ],
      "metadata": {
        "colab": {
          "base_uri": "https://localhost:8080/",
          "height": 606
        },
        "id": "JRHUMn8srRbS",
        "outputId": "c4c087d0-277f-44ae-f6a1-16013d72934d"
      },
      "execution_count": 39,
      "outputs": [
        {
          "output_type": "execute_result",
          "data": {
            "text/plain": [
              "<class 'statsmodels.iolib.summary.Summary'>\n",
              "\"\"\"\n",
              "                             ARIMA Model Results                              \n",
              "==============================================================================\n",
              "Dep. Variable:                D.Close   No. Observations:                 1367\n",
              "Model:                 ARIMA(1, 1, 7)   Log Likelihood              -11492.994\n",
              "Method:                       css-mle   S.D. of innovations           1084.054\n",
              "Date:                Mon, 30 May 2022   AIC                          23005.987\n",
              "Time:                        06:35:47   BIC                          23058.191\n",
              "Sample:                    01-03-2017   HQIC                         23025.526\n",
              "                         - 03-30-2022                                         \n",
              "=================================================================================\n",
              "                    coef    std err          z      P>|z|      [0.025      0.975]\n",
              "---------------------------------------------------------------------------------\n",
              "const            33.6844     31.821      1.059      0.290     -28.684      96.053\n",
              "ar.L1.D.Close    -0.4591      0.147     -3.129      0.002      -0.747      -0.172\n",
              "ma.L1.D.Close     0.4527      0.146      3.103      0.002       0.167       0.739\n",
              "ma.L2.D.Close     0.0171      0.030      0.576      0.565      -0.041       0.075\n",
              "ma.L3.D.Close     0.0487      0.030      1.634      0.103      -0.010       0.107\n",
              "ma.L4.D.Close     0.0404      0.031      1.313      0.190      -0.020       0.101\n",
              "ma.L5.D.Close    -0.0898      0.029     -3.144      0.002      -0.146      -0.034\n",
              "ma.L6.D.Close     0.0012      0.035      0.035      0.972      -0.068       0.070\n",
              "ma.L7.D.Close     0.1138      0.027      4.227      0.000       0.061       0.167\n",
              "                                    Roots                                    \n",
              "=============================================================================\n",
              "                  Real          Imaginary           Modulus         Frequency\n",
              "-----------------------------------------------------------------------------\n",
              "AR.1           -2.1779           +0.0000j            2.1779            0.5000\n",
              "MA.1           -1.3247           -0.0000j            1.3247           -0.5000\n",
              "MA.2           -0.9495           -0.8560j            1.2784           -0.3832\n",
              "MA.3           -0.9495           +0.8560j            1.2784            0.3832\n",
              "MA.4            0.2495           -1.3061j            1.3297           -0.2200\n",
              "MA.5            0.2495           +1.3061j            1.3297            0.2200\n",
              "MA.6            1.3569           -0.6744j            1.5153           -0.0734\n",
              "MA.7            1.3569           +0.6744j            1.5153            0.0734\n",
              "-----------------------------------------------------------------------------\n",
              "\"\"\""
            ],
            "text/html": [
              "<table class=\"simpletable\">\n",
              "<caption>ARIMA Model Results</caption>\n",
              "<tr>\n",
              "  <th>Dep. Variable:</th>      <td>D.Close</td>     <th>  No. Observations:  </th>    <td>1367</td>   \n",
              "</tr>\n",
              "<tr>\n",
              "  <th>Model:</th>          <td>ARIMA(1, 1, 7)</td>  <th>  Log Likelihood     </th> <td>-11492.994</td>\n",
              "</tr>\n",
              "<tr>\n",
              "  <th>Method:</th>             <td>css-mle</td>     <th>  S.D. of innovations</th>  <td>1084.054</td> \n",
              "</tr>\n",
              "<tr>\n",
              "  <th>Date:</th>          <td>Mon, 30 May 2022</td> <th>  AIC                </th>  <td>23005.987</td>\n",
              "</tr>\n",
              "<tr>\n",
              "  <th>Time:</th>              <td>06:35:47</td>     <th>  BIC                </th>  <td>23058.191</td>\n",
              "</tr>\n",
              "<tr>\n",
              "  <th>Sample:</th>           <td>01-03-2017</td>    <th>  HQIC               </th>  <td>23025.526</td>\n",
              "</tr>\n",
              "<tr>\n",
              "  <th></th>                 <td>- 03-30-2022</td>   <th>                     </th>      <td> </td>    \n",
              "</tr>\n",
              "</table>\n",
              "<table class=\"simpletable\">\n",
              "<tr>\n",
              "        <td></td>           <th>coef</th>     <th>std err</th>      <th>z</th>      <th>P>|z|</th>  <th>[0.025</th>    <th>0.975]</th>  \n",
              "</tr>\n",
              "<tr>\n",
              "  <th>const</th>         <td>   33.6844</td> <td>   31.821</td> <td>    1.059</td> <td> 0.290</td> <td>  -28.684</td> <td>   96.053</td>\n",
              "</tr>\n",
              "<tr>\n",
              "  <th>ar.L1.D.Close</th> <td>   -0.4591</td> <td>    0.147</td> <td>   -3.129</td> <td> 0.002</td> <td>   -0.747</td> <td>   -0.172</td>\n",
              "</tr>\n",
              "<tr>\n",
              "  <th>ma.L1.D.Close</th> <td>    0.4527</td> <td>    0.146</td> <td>    3.103</td> <td> 0.002</td> <td>    0.167</td> <td>    0.739</td>\n",
              "</tr>\n",
              "<tr>\n",
              "  <th>ma.L2.D.Close</th> <td>    0.0171</td> <td>    0.030</td> <td>    0.576</td> <td> 0.565</td> <td>   -0.041</td> <td>    0.075</td>\n",
              "</tr>\n",
              "<tr>\n",
              "  <th>ma.L3.D.Close</th> <td>    0.0487</td> <td>    0.030</td> <td>    1.634</td> <td> 0.103</td> <td>   -0.010</td> <td>    0.107</td>\n",
              "</tr>\n",
              "<tr>\n",
              "  <th>ma.L4.D.Close</th> <td>    0.0404</td> <td>    0.031</td> <td>    1.313</td> <td> 0.190</td> <td>   -0.020</td> <td>    0.101</td>\n",
              "</tr>\n",
              "<tr>\n",
              "  <th>ma.L5.D.Close</th> <td>   -0.0898</td> <td>    0.029</td> <td>   -3.144</td> <td> 0.002</td> <td>   -0.146</td> <td>   -0.034</td>\n",
              "</tr>\n",
              "<tr>\n",
              "  <th>ma.L6.D.Close</th> <td>    0.0012</td> <td>    0.035</td> <td>    0.035</td> <td> 0.972</td> <td>   -0.068</td> <td>    0.070</td>\n",
              "</tr>\n",
              "<tr>\n",
              "  <th>ma.L7.D.Close</th> <td>    0.1138</td> <td>    0.027</td> <td>    4.227</td> <td> 0.000</td> <td>    0.061</td> <td>    0.167</td>\n",
              "</tr>\n",
              "</table>\n",
              "<table class=\"simpletable\">\n",
              "<caption>Roots</caption>\n",
              "<tr>\n",
              "    <td></td>   <th>            Real</th>  <th>         Imaginary</th> <th>         Modulus</th>  <th>        Frequency</th>\n",
              "</tr>\n",
              "<tr>\n",
              "  <th>AR.1</th> <td>          -2.1779</td> <td>          +0.0000j</td> <td>           2.1779</td> <td>           0.5000</td>\n",
              "</tr>\n",
              "<tr>\n",
              "  <th>MA.1</th> <td>          -1.3247</td> <td>          -0.0000j</td> <td>           1.3247</td> <td>          -0.5000</td>\n",
              "</tr>\n",
              "<tr>\n",
              "  <th>MA.2</th> <td>          -0.9495</td> <td>          -0.8560j</td> <td>           1.2784</td> <td>          -0.3832</td>\n",
              "</tr>\n",
              "<tr>\n",
              "  <th>MA.3</th> <td>          -0.9495</td> <td>          +0.8560j</td> <td>           1.2784</td> <td>           0.3832</td>\n",
              "</tr>\n",
              "<tr>\n",
              "  <th>MA.4</th> <td>           0.2495</td> <td>          -1.3061j</td> <td>           1.3297</td> <td>          -0.2200</td>\n",
              "</tr>\n",
              "<tr>\n",
              "  <th>MA.5</th> <td>           0.2495</td> <td>          +1.3061j</td> <td>           1.3297</td> <td>           0.2200</td>\n",
              "</tr>\n",
              "<tr>\n",
              "  <th>MA.6</th> <td>           1.3569</td> <td>          -0.6744j</td> <td>           1.5153</td> <td>          -0.0734</td>\n",
              "</tr>\n",
              "<tr>\n",
              "  <th>MA.7</th> <td>           1.3569</td> <td>          +0.6744j</td> <td>           1.5153</td> <td>           0.0734</td>\n",
              "</tr>\n",
              "</table>"
            ]
          },
          "metadata": {},
          "execution_count": 39
        }
      ]
    },
    {
      "cell_type": "code",
      "source": [
        "\n",
        "model_arima_1_1_5 = ARIMA(btc_df.Close , order =(1,1,5))\n",
        "result_arima_1_1_5 = model_arima_1_1_5.fit(start_ar_lags = 7)\n",
        "result_arima_1_1_5.summary()"
      ],
      "metadata": {
        "colab": {
          "base_uri": "https://localhost:8080/",
          "height": 522
        },
        "id": "jriDqsGUqBfV",
        "outputId": "9f2de3c8-3a86-429f-90bd-3b886498dd47"
      },
      "execution_count": 36,
      "outputs": [
        {
          "output_type": "execute_result",
          "data": {
            "text/plain": [
              "<class 'statsmodels.iolib.summary.Summary'>\n",
              "\"\"\"\n",
              "                             ARIMA Model Results                              \n",
              "==============================================================================\n",
              "Dep. Variable:                D.Close   No. Observations:                 1367\n",
              "Model:                 ARIMA(1, 1, 5)   Log Likelihood              -11501.732\n",
              "Method:                       css-mle   S.D. of innovations           1091.036\n",
              "Date:                Mon, 30 May 2022   AIC                          23019.465\n",
              "Time:                        06:33:29   BIC                          23061.228\n",
              "Sample:                    01-03-2017   HQIC                         23035.095\n",
              "                         - 03-30-2022                                         \n",
              "=================================================================================\n",
              "                    coef    std err          z      P>|z|      [0.025      0.975]\n",
              "---------------------------------------------------------------------------------\n",
              "const            33.6802     28.793      1.170      0.242     -22.754      90.114\n",
              "ar.L1.D.Close    -0.1314      0.137     -0.956      0.339      -0.401       0.138\n",
              "ma.L1.D.Close     0.1204      0.135      0.891      0.373      -0.144       0.385\n",
              "ma.L2.D.Close     0.0287      0.027      1.049      0.294      -0.025       0.082\n",
              "ma.L3.D.Close     0.0437      0.027      1.590      0.112      -0.010       0.098\n",
              "ma.L4.D.Close     0.0231      0.029      0.791      0.429      -0.034       0.080\n",
              "ma.L5.D.Close    -0.1121      0.027     -4.179      0.000      -0.165      -0.060\n",
              "                                    Roots                                    \n",
              "=============================================================================\n",
              "                  Real          Imaginary           Modulus         Frequency\n",
              "-----------------------------------------------------------------------------\n",
              "AR.1           -7.6092           +0.0000j            7.6092            0.5000\n",
              "MA.1           -1.2298           -0.8458j            1.4926           -0.4041\n",
              "MA.2           -1.2298           +0.8458j            1.4926            0.4041\n",
              "MA.3            0.4690           -1.4483j            1.5224           -0.2002\n",
              "MA.4            0.4690           +1.4483j            1.5224            0.2002\n",
              "MA.5            1.7274           -0.0000j            1.7274           -0.0000\n",
              "-----------------------------------------------------------------------------\n",
              "\"\"\""
            ],
            "text/html": [
              "<table class=\"simpletable\">\n",
              "<caption>ARIMA Model Results</caption>\n",
              "<tr>\n",
              "  <th>Dep. Variable:</th>      <td>D.Close</td>     <th>  No. Observations:  </th>    <td>1367</td>   \n",
              "</tr>\n",
              "<tr>\n",
              "  <th>Model:</th>          <td>ARIMA(1, 1, 5)</td>  <th>  Log Likelihood     </th> <td>-11501.732</td>\n",
              "</tr>\n",
              "<tr>\n",
              "  <th>Method:</th>             <td>css-mle</td>     <th>  S.D. of innovations</th>  <td>1091.036</td> \n",
              "</tr>\n",
              "<tr>\n",
              "  <th>Date:</th>          <td>Mon, 30 May 2022</td> <th>  AIC                </th>  <td>23019.465</td>\n",
              "</tr>\n",
              "<tr>\n",
              "  <th>Time:</th>              <td>06:33:29</td>     <th>  BIC                </th>  <td>23061.228</td>\n",
              "</tr>\n",
              "<tr>\n",
              "  <th>Sample:</th>           <td>01-03-2017</td>    <th>  HQIC               </th>  <td>23035.095</td>\n",
              "</tr>\n",
              "<tr>\n",
              "  <th></th>                 <td>- 03-30-2022</td>   <th>                     </th>      <td> </td>    \n",
              "</tr>\n",
              "</table>\n",
              "<table class=\"simpletable\">\n",
              "<tr>\n",
              "        <td></td>           <th>coef</th>     <th>std err</th>      <th>z</th>      <th>P>|z|</th>  <th>[0.025</th>    <th>0.975]</th>  \n",
              "</tr>\n",
              "<tr>\n",
              "  <th>const</th>         <td>   33.6802</td> <td>   28.793</td> <td>    1.170</td> <td> 0.242</td> <td>  -22.754</td> <td>   90.114</td>\n",
              "</tr>\n",
              "<tr>\n",
              "  <th>ar.L1.D.Close</th> <td>   -0.1314</td> <td>    0.137</td> <td>   -0.956</td> <td> 0.339</td> <td>   -0.401</td> <td>    0.138</td>\n",
              "</tr>\n",
              "<tr>\n",
              "  <th>ma.L1.D.Close</th> <td>    0.1204</td> <td>    0.135</td> <td>    0.891</td> <td> 0.373</td> <td>   -0.144</td> <td>    0.385</td>\n",
              "</tr>\n",
              "<tr>\n",
              "  <th>ma.L2.D.Close</th> <td>    0.0287</td> <td>    0.027</td> <td>    1.049</td> <td> 0.294</td> <td>   -0.025</td> <td>    0.082</td>\n",
              "</tr>\n",
              "<tr>\n",
              "  <th>ma.L3.D.Close</th> <td>    0.0437</td> <td>    0.027</td> <td>    1.590</td> <td> 0.112</td> <td>   -0.010</td> <td>    0.098</td>\n",
              "</tr>\n",
              "<tr>\n",
              "  <th>ma.L4.D.Close</th> <td>    0.0231</td> <td>    0.029</td> <td>    0.791</td> <td> 0.429</td> <td>   -0.034</td> <td>    0.080</td>\n",
              "</tr>\n",
              "<tr>\n",
              "  <th>ma.L5.D.Close</th> <td>   -0.1121</td> <td>    0.027</td> <td>   -4.179</td> <td> 0.000</td> <td>   -0.165</td> <td>   -0.060</td>\n",
              "</tr>\n",
              "</table>\n",
              "<table class=\"simpletable\">\n",
              "<caption>Roots</caption>\n",
              "<tr>\n",
              "    <td></td>   <th>            Real</th>  <th>         Imaginary</th> <th>         Modulus</th>  <th>        Frequency</th>\n",
              "</tr>\n",
              "<tr>\n",
              "  <th>AR.1</th> <td>          -7.6092</td> <td>          +0.0000j</td> <td>           7.6092</td> <td>           0.5000</td>\n",
              "</tr>\n",
              "<tr>\n",
              "  <th>MA.1</th> <td>          -1.2298</td> <td>          -0.8458j</td> <td>           1.4926</td> <td>          -0.4041</td>\n",
              "</tr>\n",
              "<tr>\n",
              "  <th>MA.2</th> <td>          -1.2298</td> <td>          +0.8458j</td> <td>           1.4926</td> <td>           0.4041</td>\n",
              "</tr>\n",
              "<tr>\n",
              "  <th>MA.3</th> <td>           0.4690</td> <td>          -1.4483j</td> <td>           1.5224</td> <td>          -0.2002</td>\n",
              "</tr>\n",
              "<tr>\n",
              "  <th>MA.4</th> <td>           0.4690</td> <td>          +1.4483j</td> <td>           1.5224</td> <td>           0.2002</td>\n",
              "</tr>\n",
              "<tr>\n",
              "  <th>MA.5</th> <td>           1.7274</td> <td>          -0.0000j</td> <td>           1.7274</td> <td>          -0.0000</td>\n",
              "</tr>\n",
              "</table>"
            ]
          },
          "metadata": {},
          "execution_count": 36
        }
      ]
    },
    {
      "cell_type": "code",
      "source": [
        "from scipy.stats import chi2\n",
        "\n",
        "def LLR_test(mod_1 , mod_2 , DF=1):\n",
        "    L1 = mod_1.fit().llf\n",
        "    L2 = mod_2.fit().llf\n",
        "    LR = (2*(L2 - L1))\n",
        "    p = chi2.sf(LR , DF).round(3)\n",
        "    return p\n",
        "\n",
        "\n",
        "    "
      ],
      "metadata": {
        "id": "zgKcBNdqWd2E"
      },
      "execution_count": 41,
      "outputs": []
    },
    {
      "cell_type": "code",
      "source": [
        ""
      ],
      "metadata": {
        "id": "sUNz2fiVrEMM"
      },
      "execution_count": null,
      "outputs": []
    }
  ]
}